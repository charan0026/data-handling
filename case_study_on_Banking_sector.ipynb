{
  "nbformat": 4,
  "nbformat_minor": 0,
  "metadata": {
    "colab": {
      "provenance": [],
      "authorship_tag": "ABX9TyMi4oarGMGzpLfnqoi1mzDn",
      "include_colab_link": true
    },
    "kernelspec": {
      "name": "python3",
      "display_name": "Python 3"
    },
    "language_info": {
      "name": "python"
    }
  },
  "cells": [
    {
      "cell_type": "markdown",
      "metadata": {
        "id": "view-in-github",
        "colab_type": "text"
      },
      "source": [
        "<a href=\"https://colab.research.google.com/github/charan0026/data-handling/blob/main/case_study_on_Banking_sector.ipynb\" target=\"_parent\"><img src=\"https://colab.research.google.com/assets/colab-badge.svg\" alt=\"Open In Colab\"/></a>"
      ]
    },
    {
      "cell_type": "code",
      "execution_count": null,
      "metadata": {
        "id": "MCBLx2zz5Hau"
      },
      "outputs": [],
      "source": [
        "import pandas as pd\n",
        "import numpy as np"
      ]
    },
    {
      "cell_type": "code",
      "source": [
        "age_groups = ['18-20', '20-23', '23-25', '25-31', '31-35', '35-50', '51-55', '56-60', '61-65', '66-70', '71-75', '76-80']\n",
        "num_age_groups = len(age_groups)"
      ],
      "metadata": {
        "id": "yFsfrDQTDL7B"
      },
      "execution_count": 31,
      "outputs": []
    },
    {
      "cell_type": "code",
      "source": [
        "total_loans = np.random.randint(100, 1000, size=num_age_groups)\n",
        "bad_loans = np.random.randint(10, total_loans.max() // 4, size=num_age_groups)\n",
        "good_loans = total_loans - bad_loans"
      ],
      "metadata": {
        "id": "L9maCKY_DPsw"
      },
      "execution_count": 32,
      "outputs": []
    },
    {
      "cell_type": "code",
      "source": [
        "percentage_bad_loans = (bad_loans / total_loans) * 100\n",
        "percentage_good_loans = (good_loans / total_loans) * 100"
      ],
      "metadata": {
        "id": "RlJaJtzjDTiP"
      },
      "execution_count": 34,
      "outputs": []
    },
    {
      "cell_type": "code",
      "source": [
        "data = {\n",
        "    'Age Group': age_groups,\n",
        "    'Total Number of Loans': total_loans,\n",
        "    'Number of Bad Loans': bad_loans,\n",
        "    'Number of Good Loans': good_loans,\n",
        "    'Percentage of Bad Loans': percentage_bad_loans,\n",
        "    'Percentage of Good Loans': percentage_good_loans\n",
        "}"
      ],
      "metadata": {
        "id": "BfNdZA0ODVjo"
      },
      "execution_count": 35,
      "outputs": []
    },
    {
      "cell_type": "code",
      "source": [
        "df = pd.DataFrame(data)\n",
        "\n",
        "print(df)"
      ],
      "metadata": {
        "colab": {
          "base_uri": "https://localhost:8080/"
        },
        "id": "LEA2WRXCDZBn",
        "outputId": "1cc7a9e2-3568-4270-b3b7-6887f4bb987b"
      },
      "execution_count": 36,
      "outputs": [
        {
          "output_type": "stream",
          "name": "stdout",
          "text": [
            "   Age Group  Total Number of Loans  Number of Bad Loans  \\\n",
            "0      18-20                    751                   54   \n",
            "1      20-23                    832                   31   \n",
            "2      23-25                    942                   89   \n",
            "3      25-31                    989                   78   \n",
            "4      31-35                    574                  223   \n",
            "5      35-50                    726                   61   \n",
            "6      51-55                    161                   64   \n",
            "7      56-60                    460                  128   \n",
            "8      61-65                    999                  212   \n",
            "9      66-70                    266                   39   \n",
            "10     71-75                    536                  106   \n",
            "11     76-80                    558                  135   \n",
            "\n",
            "    Number of Good Loans  Percentage of Bad Loans  Percentage of Good Loans  \n",
            "0                    697                 7.190413                 92.809587  \n",
            "1                    801                 3.725962                 96.274038  \n",
            "2                    853                 9.447983                 90.552017  \n",
            "3                    911                 7.886754                 92.113246  \n",
            "4                    351                38.850174                 61.149826  \n",
            "5                    665                 8.402204                 91.597796  \n",
            "6                     97                39.751553                 60.248447  \n",
            "7                    332                27.826087                 72.173913  \n",
            "8                    787                21.221221                 78.778779  \n",
            "9                    227                14.661654                 85.338346  \n",
            "10                   430                19.776119                 80.223881  \n",
            "11                   423                24.193548                 75.806452  \n"
          ]
        }
      ]
    },
    {
      "cell_type": "code",
      "source": [
        "data = {\n",
        "    'Age Group': ['18-20', '20-23', '23-25', '25-31', '31-35'],\n",
        "    'Total Number of Loans': [500, 600, 700, 800, 900],\n",
        "    'Number of Bad Loans': [50, 70, 80, 100, 120],\n",
        "    'Number of Good Loans': [450, 530, 620, 700, 780],\n",
        "    'Percentage of Bad Loans': [10, 11.67, 11.43, 12.5, 13.33],\n",
        "    'Percentage of Good Loans': [90, 88.33, 88.57, 87.5, 86.67]\n",
        "}"
      ],
      "metadata": {
        "id": "JbeRPrPNExFB"
      },
      "execution_count": 38,
      "outputs": []
    },
    {
      "cell_type": "code",
      "source": [
        "df = pd.DataFrame(data)"
      ],
      "metadata": {
        "id": "kEGoTQQAHJvO"
      },
      "execution_count": 39,
      "outputs": []
    },
    {
      "cell_type": "code",
      "source": [
        "plt.figure(figsize=(10, 6))\n",
        "bar_width = 0.35\n",
        "r = np.arange(len(df))"
      ],
      "metadata": {
        "colab": {
          "base_uri": "https://localhost:8080/",
          "height": 34
        },
        "id": "bJxsAov2HNll",
        "outputId": "15f859cc-44de-4d36-908a-80b372f87db5"
      },
      "execution_count": 40,
      "outputs": [
        {
          "output_type": "display_data",
          "data": {
            "text/plain": [
              "<Figure size 1000x600 with 0 Axes>"
            ]
          },
          "metadata": {}
        }
      ]
    },
    {
      "cell_type": "code",
      "source": [
        "plt.bar(r, df['Number of Bad Loans'], color='red', width=bar_width, edgecolor='grey', label='Bad Loans')\n",
        "plt.bar(r, df['Number of Good Loans'], bottom=df['Number of Bad Loans'], color='green', width=bar_width, edgecolor='grey', label='Good Loans')\n",
        "plt.xlabel('Age Group')\n",
        "plt.ylabel('Number of Loans')\n",
        "plt.title('Bad Loans vs Good Loans by Age Group')\n",
        "plt.xticks(r, df['Age Group'])\n",
        "plt.legend()\n",
        "\n",
        "plt.show()"
      ],
      "metadata": {
        "colab": {
          "base_uri": "https://localhost:8080/",
          "height": 472
        },
        "id": "OhaqydsYHSI9",
        "outputId": "952e94f7-f9df-45a1-853d-103c8d31ad9b"
      },
      "execution_count": 41,
      "outputs": [
        {
          "output_type": "display_data",
          "data": {
            "text/plain": [
              "<Figure size 640x480 with 1 Axes>"
            ],
            "image/png": "[encoded data removed]"
          },
          "metadata": {}
        }
      ]
    }
  ]
}